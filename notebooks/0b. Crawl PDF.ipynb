{
 "cells": [
  {
   "cell_type": "markdown",
   "id": "cdcb8f3c",
   "metadata": {},
   "source": [
    "# PDF Crawler"
   ]
  },
  {
   "cell_type": "code",
   "execution_count": 41,
   "id": "b15b9499",
   "metadata": {},
   "outputs": [
    {
     "name": "stdout",
     "output_type": "stream",
     "text": [
      "The autoreload extension is already loaded. To reload it, use:\n",
      "  %reload_ext autoreload\n"
     ]
    }
   ],
   "source": [
    "%load_ext autoreload\n",
    "%autoreload 2\n",
    "\n",
    "import re\n",
    "import os\n",
    "import json\n",
    "import time\n",
    "import datetime\n",
    "import numpy as np\n",
    "import pandas as pd\n",
    "import multiprocessing as mp\n",
    "from multiprocessing import Pool\n",
    "from tqdm import tqdm\n",
    "from tqdm.notebook import tqdm, trange\n",
    "import requests\n",
    "from pathlib import Path\n",
    "from PyPDF2 import PdfReader\n"
   ]
  },
  {
   "cell_type": "markdown",
   "id": "ba524d57",
   "metadata": {},
   "source": [
    "## Read submission list\n",
    "Here we scrape the _notes_ , (list of all submissions) using OpenReview's API, way faster than Selenium-based scraping.\n"
   ]
  },
  {
   "cell_type": "code",
   "execution_count": 42,
   "id": "37d02c61",
   "metadata": {},
   "outputs": [],
   "source": [
    "DATA_PATH = '../data/'\n",
    "venue = 'ICLR.cc/2022/Conference'\n",
    "venue_short = 'iclr2022'\n",
    "\n",
    "# Read hdf5 file\n",
    "df = pd.read_hdf(DATA_PATH + 'iclr2022_data_full_20221101.h5', key='df')"
   ]
  },
  {
   "cell_type": "code",
   "execution_count": 54,
   "id": "554052ea",
   "metadata": {},
   "outputs": [
    {
     "ename": "SyntaxError",
     "evalue": "expected ':' (4255663261.py, line 7)",
     "output_type": "error",
     "traceback": [
      "\u001b[0;36m  Input \u001b[0;32mIn [54]\u001b[0;36m\u001b[0m\n\u001b[0;31m    def get_pdf_data(url, save_dir='temp/')\u001b[0m\n\u001b[0m                                           ^\u001b[0m\n\u001b[0;31mSyntaxError\u001b[0m\u001b[0;31m:\u001b[0m expected ':'\n"
     ]
    }
   ],
   "source": [
    "\n",
    "# Download pdfs from df['content.pdf']\n",
    "def download_pdf(url, filename):\n",
    "    r = requests.get(url, allow_redirects=True)\n",
    "    open(filename, 'wb').write(r.content)\n",
    "\n",
    "\n",
    "def get_pdf_data(url, save_dir='temp/')\n",
    "    # Make temp directory if not exis\n",
    "    save_dir = Path(save_dir)\n",
    "    save_dir.mkdir(parents=True, exist_ok=True)\n",
    "    BASE_URL = 'https://openreview.net/pdf?id='\n",
    "    filename = save_dir / (id + '.pdf')\n",
    "    download_pdf(BASE_URL + id, filename)\n",
    "\n",
    "    reader = PdfReader(filename)\n",
    "    number_of_pages = len(reader.pages)\n",
    "    file_size = os.stat(filename)\n",
    "    text_all = ''\n",
    "    num_characters = 0\n",
    "    for page in reader.pages:\n",
    "        text = page.extract_text()\n",
    "        # text = re.sub(r'[^a-zA-Z0-9 ]', '', text)\n",
    "        text_all += text\n",
    "        num_characters += len(text)\n",
    "    return {'text': text_all, 'num_characters': num_characters, 'num_pages': number_of_pages, 'file_size': file_size}"
   ]
  },
  {
   "cell_type": "code",
   "execution_count": null,
   "id": "4261fd34",
   "metadata": {},
   "outputs": [],
   "source": [
    "id = df['id'][1]"
   ]
  },
  {
   "cell_type": "code",
   "execution_count": 6,
   "id": "b79773b8",
   "metadata": {},
   "outputs": [],
   "source": [
    "\n",
    "\n",
    "print(\"Size of file :\", file_size.st_size, \"bytes\")\n",
    "# conver total bytes to MB\n",
    "print(\"Size of file :\", file_size.st_size / (1024 * 1024), \"MB\")\n"
   ]
  },
  {
   "cell_type": "code",
   "execution_count": 11,
   "id": "b9f47ca4",
   "metadata": {},
   "outputs": [
    {
     "data": {
      "text/plain": [
       "dict_keys(['/Annots', '/Contents', '/MediaBox', '/Parent', '/Resources', '/Type'])"
      ]
     },
     "execution_count": 11,
     "metadata": {},
     "output_type": "execute_result"
    }
   ],
   "source": [
    "page.keys()"
   ]
  },
  {
   "cell_type": "code",
   "execution_count": 52,
   "id": "ea60ea22",
   "metadata": {},
   "outputs": [],
   "source": []
  },
  {
   "cell_type": "markdown",
   "id": "8fd5e9ae",
   "metadata": {},
   "source": []
  }
 ],
 "metadata": {
  "kernelspec": {
   "display_name": "Python 2.7.12 64-bit",
   "language": "python",
   "name": "python3"
  },
  "language_info": {
   "codemirror_mode": {
    "name": "ipython",
    "version": 3
   },
   "file_extension": ".py",
   "mimetype": "text/x-python",
   "name": "python",
   "nbconvert_exporter": "python",
   "pygments_lexer": "ipython3",
   "version": "3.10.6"
  },
  "vscode": {
   "interpreter": {
    "hash": "767d51c1340bd893661ea55ea3124f6de3c7a262a8b4abca0554b478b1e2ff90"
   }
  }
 },
 "nbformat": 4,
 "nbformat_minor": 5
}
