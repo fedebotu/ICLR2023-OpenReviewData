{
 "cells": [
  {
   "cell_type": "markdown",
   "id": "0f7371b9",
   "metadata": {},
   "source": [
    "# Save data to website"
   ]
  },
  {
   "cell_type": "code",
   "execution_count": 3,
   "id": "131805a1",
   "metadata": {
    "id": "131805a1"
   },
   "outputs": [],
   "source": [
    "%matplotlib inline\n",
    "%load_ext autoreload\n",
    "%autoreload 2\n",
    "\n",
    "import numpy as np\n",
    "import time\n",
    "import pandas as pd"
   ]
  },
  {
   "cell_type": "code",
   "execution_count": 4,
   "id": "a7aa8df6",
   "metadata": {},
   "outputs": [
    {
     "name": "stderr",
     "output_type": "stream",
     "text": [
      "/home/botu/.local/lib/python3.10/site-packages/numpy/core/fromnumeric.py:3474: RuntimeWarning: Mean of empty slice.\n",
      "  return _methods._mean(a, axis=axis, dtype=dtype,\n",
      "/home/botu/.local/lib/python3.10/site-packages/numpy/core/_methods.py:264: RuntimeWarning: Degrees of freedom <= 0 for slice\n",
      "  ret = _var(a, axis=axis, dtype=dtype, out=out, ddof=ddof,\n",
      "/home/botu/.local/lib/python3.10/site-packages/numpy/core/fromnumeric.py:3474: RuntimeWarning: Mean of empty slice.\n",
      "  return _methods._mean(a, axis=axis, dtype=dtype,\n",
      "/home/botu/.local/lib/python3.10/site-packages/numpy/core/_methods.py:264: RuntimeWarning: Degrees of freedom <= 0 for slice\n",
      "  ret = _var(a, axis=axis, dtype=dtype, out=out, ddof=ddof,\n"
     ]
    }
   ],
   "source": [
    "data_path = '../data/'\n",
    "venue_short = 'iclr2023'\n",
    "date = time.strftime(\"%Y%m%d\")\n",
    "df = pd.read_csv(f'{data_path}{venue_short}_{date}.csv')\n",
    "\n",
    "# get average rating for each paper from ratings column\n",
    "df['ratings_avg'] = df['ratings'].apply(lambda x: np.mean(eval(x)))\n",
    "df['ratings_std'] = df['ratings'].apply(lambda x: np.std(eval(x)))\n",
    "df['confidence_avg'] = df['confidences'].apply(lambda x: np.mean(eval(x)))\n",
    "df['confidence_std'] = df['confidences'].apply(lambda x: np.std(eval(x)))"
   ]
  },
  {
   "cell_type": "markdown",
   "id": "4ab7f63c",
   "metadata": {
    "id": "4ab7f63c"
   },
   "source": [
    "# Write all submissions"
   ]
  },
  {
   "cell_type": "code",
   "execution_count": 5,
   "id": "26664ed9",
   "metadata": {},
   "outputs": [
    {
     "data": {
      "text/html": [
       "<div>\n",
       "<style scoped>\n",
       "    .dataframe tbody tr th:only-of-type {\n",
       "        vertical-align: middle;\n",
       "    }\n",
       "\n",
       "    .dataframe tbody tr th {\n",
       "        vertical-align: top;\n",
       "    }\n",
       "\n",
       "    .dataframe thead th {\n",
       "        text-align: right;\n",
       "    }\n",
       "</style>\n",
       "<table border=\"1\" class=\"dataframe\">\n",
       "  <thead>\n",
       "    <tr style=\"text-align: right;\">\n",
       "      <th></th>\n",
       "      <th>id</th>\n",
       "      <th>title</th>\n",
       "      <th>keywords</th>\n",
       "      <th>ratings</th>\n",
       "      <th>confidences</th>\n",
       "      <th>withdraw</th>\n",
       "      <th>review_lengths</th>\n",
       "      <th>ratings_avg</th>\n",
       "      <th>ratings_std</th>\n",
       "      <th>confidence_avg</th>\n",
       "      <th>confidence_std</th>\n",
       "      <th>url</th>\n",
       "    </tr>\n",
       "  </thead>\n",
       "  <tbody>\n",
       "    <tr>\n",
       "      <th>0</th>\n",
       "      <td>kRvZ2PcsxjJj</td>\n",
       "      <td>Quantum reinforcement learning</td>\n",
       "      <td>['quantum reinforcement learning', 'multi-agen...</td>\n",
       "      <td>[1, 1, 1, 1]</td>\n",
       "      <td>[5, 5, 5, 5]</td>\n",
       "      <td>0</td>\n",
       "      <td>[45, 49, 25, 283]</td>\n",
       "      <td>1.000000</td>\n",
       "      <td>0.000000</td>\n",
       "      <td>5.000000</td>\n",
       "      <td>0.000000</td>\n",
       "      <td>https://openreview.net/forum?id=kRvZ2PcsxjJj</td>\n",
       "    </tr>\n",
       "    <tr>\n",
       "      <th>1</th>\n",
       "      <td>RUzSobdYy0V</td>\n",
       "      <td>Quantifying and Mitigating the Impact of Label...</td>\n",
       "      <td>[]</td>\n",
       "      <td>[5, 6, 8]</td>\n",
       "      <td>[4, 3, 3]</td>\n",
       "      <td>0</td>\n",
       "      <td>[443, 274, 401]</td>\n",
       "      <td>6.333333</td>\n",
       "      <td>1.247219</td>\n",
       "      <td>3.333333</td>\n",
       "      <td>0.471405</td>\n",
       "      <td>https://openreview.net/forum?id=RUzSobdYy0V</td>\n",
       "    </tr>\n",
       "    <tr>\n",
       "      <th>2</th>\n",
       "      <td>N3kGYG3ZcTi</td>\n",
       "      <td>Suppression helps: Lateral Inhibition-inspired...</td>\n",
       "      <td>['Lateral Inhibition', 'Convolutional Neural N...</td>\n",
       "      <td>[3, 5, 3, 1]</td>\n",
       "      <td>[5, 5, 5, 5]</td>\n",
       "      <td>0</td>\n",
       "      <td>[333, 360, 362, 304]</td>\n",
       "      <td>3.000000</td>\n",
       "      <td>1.414214</td>\n",
       "      <td>5.000000</td>\n",
       "      <td>0.000000</td>\n",
       "      <td>https://openreview.net/forum?id=N3kGYG3ZcTi</td>\n",
       "    </tr>\n",
       "    <tr>\n",
       "      <th>3</th>\n",
       "      <td>tmIiMPl4IPa</td>\n",
       "      <td>Factorized Fourier Neural Operators</td>\n",
       "      <td>['fourier transform', 'fourier operators', 'pd...</td>\n",
       "      <td>[8, 6, 3, 8, 3]</td>\n",
       "      <td>[5, 4, 4, 2, 2]</td>\n",
       "      <td>0</td>\n",
       "      <td>[203, 142, 323, 520, 635]</td>\n",
       "      <td>5.600000</td>\n",
       "      <td>2.244994</td>\n",
       "      <td>3.400000</td>\n",
       "      <td>1.200000</td>\n",
       "      <td>https://openreview.net/forum?id=tmIiMPl4IPa</td>\n",
       "    </tr>\n",
       "    <tr>\n",
       "      <th>4</th>\n",
       "      <td>mhnHqRqcjYU</td>\n",
       "      <td>DFPC: Data flow driven pruning of coupled chan...</td>\n",
       "      <td>['Pruning', 'Data Free', 'Model Compression']</td>\n",
       "      <td>[8, 6, 6]</td>\n",
       "      <td>[3, 2, 3]</td>\n",
       "      <td>0</td>\n",
       "      <td>[302, 90, 257]</td>\n",
       "      <td>6.666667</td>\n",
       "      <td>0.942809</td>\n",
       "      <td>2.666667</td>\n",
       "      <td>0.471405</td>\n",
       "      <td>https://openreview.net/forum?id=mhnHqRqcjYU</td>\n",
       "    </tr>\n",
       "  </tbody>\n",
       "</table>\n",
       "</div>"
      ],
      "text/plain": [
       "             id                                              title  \\\n",
       "0  kRvZ2PcsxjJj                    Quantum reinforcement learning    \n",
       "1   RUzSobdYy0V  Quantifying and Mitigating the Impact of Label...   \n",
       "2   N3kGYG3ZcTi  Suppression helps: Lateral Inhibition-inspired...   \n",
       "3   tmIiMPl4IPa                Factorized Fourier Neural Operators   \n",
       "4   mhnHqRqcjYU  DFPC: Data flow driven pruning of coupled chan...   \n",
       "\n",
       "                                            keywords          ratings  \\\n",
       "0  ['quantum reinforcement learning', 'multi-agen...     [1, 1, 1, 1]   \n",
       "1                                                 []        [5, 6, 8]   \n",
       "2  ['Lateral Inhibition', 'Convolutional Neural N...     [3, 5, 3, 1]   \n",
       "3  ['fourier transform', 'fourier operators', 'pd...  [8, 6, 3, 8, 3]   \n",
       "4      ['Pruning', 'Data Free', 'Model Compression']        [8, 6, 6]   \n",
       "\n",
       "       confidences  withdraw             review_lengths  ratings_avg  \\\n",
       "0     [5, 5, 5, 5]         0          [45, 49, 25, 283]     1.000000   \n",
       "1        [4, 3, 3]         0            [443, 274, 401]     6.333333   \n",
       "2     [5, 5, 5, 5]         0       [333, 360, 362, 304]     3.000000   \n",
       "3  [5, 4, 4, 2, 2]         0  [203, 142, 323, 520, 635]     5.600000   \n",
       "4        [3, 2, 3]         0             [302, 90, 257]     6.666667   \n",
       "\n",
       "   ratings_std  confidence_avg  confidence_std  \\\n",
       "0     0.000000        5.000000        0.000000   \n",
       "1     1.247219        3.333333        0.471405   \n",
       "2     1.414214        5.000000        0.000000   \n",
       "3     2.244994        3.400000        1.200000   \n",
       "4     0.942809        2.666667        0.471405   \n",
       "\n",
       "                                            url  \n",
       "0  https://openreview.net/forum?id=kRvZ2PcsxjJj  \n",
       "1   https://openreview.net/forum?id=RUzSobdYy0V  \n",
       "2   https://openreview.net/forum?id=N3kGYG3ZcTi  \n",
       "3   https://openreview.net/forum?id=tmIiMPl4IPa  \n",
       "4   https://openreview.net/forum?id=mhnHqRqcjYU  "
      ]
     },
     "execution_count": 5,
     "metadata": {},
     "output_type": "execute_result"
    }
   ],
   "source": [
    "df['url'] = df['id'].apply(lambda x: 'https://openreview.net/forum?id=' + x)\n",
    "df.head()"
   ]
  },
  {
   "cell_type": "code",
   "execution_count": 6,
   "id": "95ea9412",
   "metadata": {},
   "outputs": [],
   "source": [
    "# if none, set to 0\n",
    "df['ratings_avg'] = df['ratings_avg'].fillna(0)\n",
    "\n",
    "# get papers with 0 ratings_avg and set ratings column as 'rating not available'ArithmeticError\n",
    "df.loc[df['ratings_avg'] == 0, 'ratings'] = 'Ratings not available yet'\n",
    "# df[df['ratings_avg'] == 0]['ratings'] = 'Rating not available yet'"
   ]
  },
  {
   "cell_type": "code",
   "execution_count": 18,
   "id": "56b3e313",
   "metadata": {},
   "outputs": [],
   "source": [
    "# read template \n",
    "with open('../web/openreview_template_rebuttal.html', 'r') as f:\n",
    "    html_temp = f.readlines()\n",
    "\n",
    "# find insert index\n",
    "idx = html_temp.index('    <!-- start here -->\\n') + 1\n",
    "\n",
    "\n",
    "# write data\n",
    "for i, el in df.iterrows():\n",
    "    _str = f\"<tr><td>{i + 1}</td><td class='td-left'><a href='{el['url']}'> {el['title']}</a></td>\" \\\n",
    "           f\"<td class='r'>{el['ratings_avg']:.2f}</td\" \\\n",
    "           f\"<td data-sort='{el['ratings_avg']}'>\" \\\n",
    "           f\"<td data-sort='{len(el['ratings'])}'>\" \\\n",
    "           f\"<table class='sub-table'>\" \\\n",
    "           f\"<tr><td class='r'>{', '.join(el['ratings'].strip('[]').split(','))}</td>\" \\\n",
    "           f\"</table></td>\" \\\n",
    "           f\"</tr>\\n\"\n",
    "    html_temp.insert(idx + i, _str)\n",
    "\n",
    "with open(f'../submissions.html' ,'w') as f:\n",
    "    f.write(\"\".join(html_temp))"
   ]
  }
 ],
 "metadata": {
  "colab": {
   "name": "plot.ipynb",
   "provenance": []
  },
  "kernelspec": {
   "display_name": "Python 2.7.12 64-bit",
   "language": "python",
   "name": "python3"
  },
  "language_info": {
   "codemirror_mode": {
    "name": "ipython",
    "version": 3
   },
   "file_extension": ".py",
   "mimetype": "text/x-python",
   "name": "python",
   "nbconvert_exporter": "python",
   "pygments_lexer": "ipython3",
   "version": "3.10.6"
  },
  "vscode": {
   "interpreter": {
    "hash": "767d51c1340bd893661ea55ea3124f6de3c7a262a8b4abca0554b478b1e2ff90"
   }
  }
 },
 "nbformat": 4,
 "nbformat_minor": 5
}
